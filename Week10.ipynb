{
  "nbformat": 4,
  "nbformat_minor": 0,
  "metadata": {
    "colab": {
      "provenance": [],
      "authorship_tag": "ABX9TyNAaRkeg2wVf4MGTmFGVyUU",
      "include_colab_link": true
    },
    "kernelspec": {
      "name": "python3",
      "display_name": "Python 3"
    },
    "language_info": {
      "name": "python"
    }
  },
  "cells": [
    {
      "cell_type": "markdown",
      "metadata": {
        "id": "view-in-github",
        "colab_type": "text"
      },
      "source": [
        "<a href=\"https://colab.research.google.com/github/KrysnaRachmatR/PCVK_GANJIL_2023/blob/main/Week10.ipynb\" target=\"_parent\"><img src=\"https://colab.research.google.com/assets/colab-badge.svg\" alt=\"Open In Colab\"/></a>"
      ]
    },
    {
      "cell_type": "code",
      "execution_count": 1,
      "metadata": {
        "colab": {
          "base_uri": "https://localhost:8080/"
        },
        "id": "x_KSPwgFxMUR",
        "outputId": "35b4a09a-6cca-4c06-f6a1-9a89572e3c78"
      },
      "outputs": [
        {
          "output_type": "stream",
          "name": "stdout",
          "text": [
            "Collecting pytesseract\n",
            "  Downloading pytesseract-0.3.10-py3-none-any.whl (14 kB)\n",
            "Requirement already satisfied: packaging>=21.3 in /usr/local/lib/python3.10/dist-packages (from pytesseract) (23.2)\n",
            "Requirement already satisfied: Pillow>=8.0.0 in /usr/local/lib/python3.10/dist-packages (from pytesseract) (9.4.0)\n",
            "Installing collected packages: pytesseract\n",
            "Successfully installed pytesseract-0.3.10\n"
          ]
        }
      ],
      "source": [
        "pip install pytesseract"
      ]
    },
    {
      "cell_type": "code",
      "source": [
        "import cv2\n",
        "import numpy as np\n",
        "import pytesseract\n",
        "import matplotlib.pyplot as plt\n",
        "import pandas as pd\n",
        "from PIL import Image\n",
        "from google.colab.patches import cv2_imshow"
      ],
      "metadata": {
        "id": "a5szGkDVxxIa"
      },
      "execution_count": 2,
      "outputs": []
    },
    {
      "cell_type": "code",
      "source": [
        "from google.colab import drive\n",
        "drive.mount('/content/drive')"
      ],
      "metadata": {
        "colab": {
          "base_uri": "https://localhost:8080/"
        },
        "id": "XlQXoLu20kdh",
        "outputId": "6b5fd053-2e79-42f6-803d-719f0dcc6f17"
      },
      "execution_count": 5,
      "outputs": [
        {
          "output_type": "stream",
          "name": "stdout",
          "text": [
            "Drive already mounted at /content/drive; to attempt to forcibly remount, call drive.mount(\"/content/drive\", force_remount=True).\n"
          ]
        }
      ]
    },
    {
      "cell_type": "markdown",
      "source": [
        "3. Buat Global Threshold (BINARY, BINARY_INV, TRUNC, TOZERO, TOZERO_INV), dengan\n",
        "threshold= 170, secara manual sesuai dengan deskripsi dari grafik yang ditunjukkan di\n",
        "atas."
      ],
      "metadata": {
        "id": "zz1_2MCby546"
      }
    },
    {
      "cell_type": "code",
      "source": [
        "def threshold(image, t):\n",
        "  #inisialisasi hasil matriks\n",
        "  result = np.zeros(image.shape, dtype=np.uint8)\n",
        "\n",
        "  #Thresholding\n",
        "  for i in range(image.shape[0]):\n",
        "    for j in range(image.shape[1]):\n",
        "      if image[i][j] > t:\n",
        "        result[i][j] = 255\n",
        "      else:\n",
        "          result[i][j] = image[i][j]\n",
        "\n",
        "          return result"
      ],
      "metadata": {
        "id": "0CnGR7BSy-BB"
      },
      "execution_count": 7,
      "outputs": []
    },
    {
      "cell_type": "code",
      "source": [
        "image = cv2.imread('/content/drive/MyDrive/PCVK_MM/Images/image_thres/gradient.jpg')\n",
        "\n",
        "gray_image = cv2.cvtColor(image, cv2.COLOR_BGR2GRAY)\n",
        "\n",
        "\n",
        "#Thresholding Binary\n",
        "binary = threshold(gray_image, 170)\n",
        "\n",
        "#Thresholding BINARY_INV\n",
        "binary_inv = 255 - threshold(gray_image, 170)\n",
        "\n",
        "#Thresholding TRUNC\n",
        "trunc = threshold(gray_image, 170)\n",
        "\n",
        "#Thresholding TOZERO\n",
        "tozero = threshold(gray_image, 170)\n",
        "tozero[tozero == 255] = 0\n",
        "\n",
        "#Thresholding TOZERO_INV\n",
        "tozero_inv = 255 - threshold(gray_image, 170)\n",
        "tozero_inv[tozero_inv == 255] = 0"
      ],
      "metadata": {
        "id": "bcg4M8tczwvU"
      },
      "execution_count": 13,
      "outputs": []
    },
    {
      "cell_type": "code",
      "source": [
        "plt.figure(figsize=(15,6))\n",
        "\n",
        "plt.subplot(151)\n",
        "plt.imshow(binary, cmap='gray')\n",
        "plt.title('BINARY')\n",
        "\n",
        "plt.subplot(152)\n",
        "plt.imshow(binary_inv, cmap='gray')\n",
        "plt.title('BINARY INV')\n",
        "\n",
        "plt.subplot(153)\n",
        "plt.imshow(trunc, cmap='gray')\n",
        "plt.title('TRUNC')\n",
        "\n",
        "plt.subplot(154)\n",
        "plt.imshow(tozero, cmap='gray')\n",
        "plt.title('TOZERO')\n",
        "\n",
        "plt.subplot(155)\n",
        "plt.imshow(tozero_inv, cmap='gray')\n",
        "plt.title('TOZERO INV')\n",
        "\n",
        "plt.tight_layout()\n",
        "plt.show()"
      ],
      "metadata": {
        "colab": {
          "base_uri": "https://localhost:8080/",
          "height": 176
        },
        "id": "yglTAryT3sYf",
        "outputId": "ca85fe6a-d1df-4741-fef7-ad268f854285"
      },
      "execution_count": 14,
      "outputs": [
        {
          "output_type": "display_data",
          "data": {
            "text/plain": [
              "<Figure size 1500x600 with 5 Axes>"
            ],
            "image/png": "[encoded data removed]"
          },
          "metadata": {}
        }
      ]
    }
  ]
}