{
  "nbformat": 4,
  "nbformat_minor": 0,
  "metadata": {
    "colab": {
      "provenance": [],
      "authorship_tag": "ABX9TyO8kiVCXPpvC1KzBMqy3Bki",
      "include_colab_link": true
    },
    "kernelspec": {
      "name": "python3",
      "display_name": "Python 3"
    },
    "language_info": {
      "name": "python"
    }
  },
  "cells": [
    {
      "cell_type": "markdown",
      "metadata": {
        "id": "view-in-github",
        "colab_type": "text"
      },
      "source": [
        "<a href=\"https://colab.research.google.com/github/KrysnaRachmatR/PCVK_GANJIL_2023/blob/main/Week11.ipynb\" target=\"_parent\"><img src=\"https://colab.research.google.com/assets/colab-badge.svg\" alt=\"Open In Colab\"/></a>"
      ]
    },
    {
      "cell_type": "markdown",
      "source": [
        "###Nama    : Krysna Rachmat Ramadhan Budiono\n",
        "###Kelas   : 3C\n",
        "###Absen   : 14\n",
        "###NIM     : 2141720219\n",
        "\n",
        "\n",
        "\n"
      ],
      "metadata": {
        "id": "k8-IAfG6_3DQ"
      }
    },
    {
      "cell_type": "code",
      "execution_count": null,
      "metadata": {
        "id": "jMN2oAQF_1YQ"
      },
      "outputs": [],
      "source": [
        "#Import beberapa library\n",
        "import cv2 as cv\n",
        "import numpy as np\n",
        "from matplotlib import pyplot as plt"
      ]
    },
    {
      "cell_type": "code",
      "source": [
        "from google.colab import drive\n",
        "\n",
        "drive.mount('/content/drive')"
      ],
      "metadata": {
        "id": "QKtkYEB4nGBk"
      },
      "execution_count": null,
      "outputs": []
    },
    {
      "cell_type": "markdown",
      "source": [
        "2. Implementasikan 6 metode template matching pada OpenCV dengan menggunakan gambar cats_and_bunnies.jpg dan cat2_templatejpg.jpg sebagai templatenya."
      ],
      "metadata": {
        "id": "q-kvxpsoAwjI"
      }
    },
    {
      "cell_type": "code",
      "source": [],
      "metadata": {
        "id": "N3GEE7xCAyOE"
      },
      "execution_count": null,
      "outputs": []
    }
  ]
}