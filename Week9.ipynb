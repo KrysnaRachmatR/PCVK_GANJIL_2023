{
  "nbformat": 4,
  "nbformat_minor": 0,
  "metadata": {
    "colab": {
      "provenance": [],
      "authorship_tag": "ABX9TyOMkeuIpYludBX3l5al0rIj",
      "include_colab_link": true
    },
    "kernelspec": {
      "name": "python3",
      "display_name": "Python 3"
    },
    "language_info": {
      "name": "python"
    }
  },
  "cells": [
    {
      "cell_type": "markdown",
      "metadata": {
        "id": "view-in-github",
        "colab_type": "text"
      },
      "source": [
        "<a href=\"https://colab.research.google.com/github/KrysnaRachmatR/PCVK_GANJIL_2023/blob/main/Week9.ipynb\" target=\"_parent\"><img src=\"https://colab.research.google.com/assets/colab-badge.svg\" alt=\"Open In Colab\"/></a>"
      ]
    },
    {
      "cell_type": "code",
      "execution_count": 1,
      "metadata": {
        "id": "dDD1xMXrbUxp",
        "outputId": "a6252437-a1d7-4e3c-c724-70ded698c74a",
        "colab": {
          "base_uri": "https://localhost:8080/"
        }
      },
      "outputs": [
        {
          "output_type": "stream",
          "name": "stdout",
          "text": [
            "Mounted at /content/drive\n"
          ]
        }
      ],
      "source": [
        "from google.colab import drive\n",
        "drive.mount('/content/drive')"
      ]
    },
    {
      "cell_type": "code",
      "source": [
        "import cv2\n",
        "import numpy as np\n",
        "import matplotlib.pyplot as plt"
      ],
      "metadata": {
        "id": "He8NZxyqMsdu"
      },
      "execution_count": 2,
      "outputs": []
    },
    {
      "cell_type": "markdown",
      "source": [
        "##**3. Dilasi dengan Strel (SED) tanpa Library**\n",
        "Buatlah fungsi dilasi serta tampilkan hasil dilasi pada citra dengan Structuring Element Dilasi (SED) berbentuk cross 3 x 3 tanpa menggunakan library morphology dari openCV."
      ],
      "metadata": {
        "id": "_vwzMK6sMyiZ"
      }
    },
    {
      "cell_type": "code",
      "source": [
        "# Read Image\n",
        "img_1 = cv2.imread('/content/drive/MyDrive/Colab Notebooks/Week9/images/plat nomer.jpg')\n",
        "\n",
        "if img_1 is None:\n",
        "    print('Could not open or find the image.')\n",
        "    exit(0)"
      ],
      "metadata": {
        "id": "1snB7WC1MwtP",
        "outputId": "05a2f2b1-b448-4550-e3ed-837db5243f8b",
        "colab": {
          "base_uri": "https://localhost:8080/"
        }
      },
      "execution_count": 3,
      "outputs": [
        {
          "output_type": "stream",
          "name": "stdout",
          "text": [
            "Could not open or find the image.\n"
          ]
        }
      ]
    },
    {
      "cell_type": "code",
      "source": [
        "def dilate(image, kernel):\n",
        "  # Convert to grayscale\n",
        "  # image = cv.cvtColor(image, cv.COLOR_BGR2GRAY)\n",
        "  # value k & constant diubah, biar bisa dipake buat function opening\n",
        "  kernel_size, _ = kernel.shape # _ gak dipake, karena kernel selalu persegi, k_size saja sudah cukup\n",
        "  pad_size = kernel_size // 2 # tadinya (k_size - 1), balikin klo hasil beda.\n",
        "\n",
        "  # Get image size\n",
        "  height = image.shape[0]\n",
        "  width = image.shape[1]\n",
        "\n",
        "  # Initialize the dilated image\n",
        "  dilated = np.zeros_like(image)\n",
        "  # dilated = np.zeros((height  + 2 * pad_size, width + 2 * pad_size), dtype=np.uint8)\n",
        "\n",
        "  # Perform dilation\n",
        "  # Rumus lama pake static value 1, bukan pad size\n",
        "  for i in range(pad_size, height - pad_size):\n",
        "    for j in range(pad_size, width - pad_size):\n",
        "      # Tadinya beberapa pake + 2 karena pad_size = 1 dan dijumlah + 1, hence + 2.\n",
        "      # pad_size balikin ke + 1 kalo ga bisa2 pake rumus ini\n",
        "      dilated_pixel_formula = image[i - pad_size:i + pad_size + 1, j - pad_size:j + pad_size + 1]\n",
        "      dilated_pixel = dilated_pixel_formula * kernel # tadinya + kernel bkn dilated\n",
        "      # replacing dilated back to kernel seems to be working\n",
        "      dilated[i, j] = np.max(dilated_pixel)\n",
        "\n",
        "  return dilated"
      ],
      "metadata": {
        "id": "MxwQxujvNChi"
      },
      "execution_count": 2,
      "outputs": []
    },
    {
      "cell_type": "code",
      "source": [
        "# Cross-shaped kernel\n",
        "kernel_3x3 = np.array([[0, 1, 0],\n",
        "                   [1, 1, 1],\n",
        "                   [0, 1, 0]], dtype = np.uint8)\n",
        "\n",
        "# Square 3x3 kernel\n",
        "# testing error\n",
        "#kernel_3x3 = np.ones((3, 3), dtype=np.uint8)\n",
        "\n",
        "# Pemanggilan function dilation\n",
        "output = dilate(img_1, kernel_3x3)\n",
        "\n",
        "print(kernel_3x3)\n",
        "plt.subplot(121), plt.imshow(img_1), plt.title('Citra Awal')\n",
        "plt.subplot(122), plt.imshow(output, cmap = 'gray'), plt.title('Citra Hasil Dilasi')\n",
        "plt.show()"
      ],
      "metadata": {
        "id": "zNf3oE3ENDKz"
      },
      "execution_count": null,
      "outputs": []
    },
    {
      "cell_type": "markdown",
      "source": [
        "##**4. Dilasi dengan Strel (SED) dengan Library**\n",
        "\n",
        "Buatlah program implementasi operasi dilasi Structuring Element Dilasi (SED) berbentuk cross 3 x 3 dengan menggunakan library morphology dari openCV."
      ],
      "metadata": {
        "id": "4yGMM_HhN6tK"
      }
    },
    {
      "cell_type": "code",
      "source": [
        "# Cross-shaped kernel (structuring element)\n",
        "kernel_cross_3x3 = cv2.getStructuringElement(cv2.MORPH_CROSS, (3, 3))\n",
        "\n",
        "# Dilasi menggunakan function cv2.dilate()\n",
        "output = cv2.dilate(img_1, kernel_cross_3x3, iterations = 1)\n",
        "\n",
        "print(kernel_cross_3x3)\n",
        "plt.subplot(121), plt.imshow(img_1), plt.title('Citra Awal')\n",
        "plt.subplot(122), plt.imshow(output), plt.title('Citra Hasil Dilasi')\n",
        "plt.show()"
      ],
      "metadata": {
        "id": "M54j-VP3N5O3"
      },
      "execution_count": null,
      "outputs": []
    },
    {
      "cell_type": "markdown",
      "source": [
        "##**5. Erosi dengan Strel (SE) tanpa Library**\n",
        "Buatlah fungsi erosi serta tampilkan hasil erosi pada citra dengan Structuring Element Erosi (SE) berbentuk square 5 x 5 tanpa menggunakan library morphology dari openCV, sehingga menghasilkan tampilan seperti di bawah ini:"
      ],
      "metadata": {
        "id": "tyi0-XYMOCrY"
      }
    },
    {
      "cell_type": "code",
      "source": [
        "def erode(image, kernel):\n",
        "  # Convert image to grayscale\n",
        "  image = cv.cvtColor(image, cv.COLOR_BGR2GRAY)\n",
        "  # Image size\n",
        "  height = image.shape[0]\n",
        "  width = image.shape[1]\n",
        "\n",
        "  # value k & constant diubah, agar bisa dipakai untuk function opening\n",
        "  kernel_size, _ = kernel.shape # _ tidak dipakai, karena kernel selalu persegi, k_size saja sudah cukup\n",
        "  pad_size = kernel_size // 2 # tadinya (k_size - 1), balikin klo hasil beda.\n",
        "\n",
        "  # Inisialisasi Image Erosi\n",
        "  eroded = np.zeros_like(image)\n",
        "\n",
        "  # Looping Erosi\n",
        "  for i in range(pad_size, height - pad_size):\n",
        "    for j in range(pad_size, width - pad_size):\n",
        "        eroded_pixel_formula = image[i - pad_size:i + pad_size + 1, j - pad_size:j + pad_size + 1]\n",
        "        eroded_pixel = eroded_pixel_formula * kernel\n",
        "        eroded[i, j] = np.min(eroded_pixel)\n",
        "\n",
        "  # Convert eroded to grayscale, delete if causing errors\n",
        "  # eroded = cv.cvtColor(eroded, cv.COLOR_BGR2GRAY)\n",
        "  return eroded"
      ],
      "metadata": {
        "id": "KQakXepHOGa5"
      },
      "execution_count": null,
      "outputs": []
    },
    {
      "cell_type": "code",
      "source": [
        "# Kernel square 5x5\n",
        "kernel_5x5 = np.ones((5, 5), dtype = np.uint8)\n",
        "\n",
        "# Pemanggilan function erosi\n",
        "output = erode(img_1, kernel_5x5)\n",
        "\n",
        "plt.subplot(121), plt.imshow(img_1), plt.title('Citra Awal')\n",
        "plt.subplot(122), plt.imshow(output, cmap = 'gray'), plt.title('Citra Hasil Erosi') # cmap =  'gray' untuk mengubah output grayscale sesuai plt\n",
        "plt.show()"
      ],
      "metadata": {
        "id": "M72wxpkJOIYR"
      },
      "execution_count": null,
      "outputs": []
    },
    {
      "cell_type": "markdown",
      "source": [
        "##**6. Erosi dengan Strel (SE) dengan Library**\n",
        "\n",
        "Buatlah program implementasi operasi dilasi Structuring Element Erosi (SE) berbentuk square 5 x 5 dengan menggunakan library morphology dari openCV, sehingga menghasilkan tampilan seperti di bawah ini:"
      ],
      "metadata": {
        "id": "8EJAbTN9OL82"
      }
    },
    {
      "cell_type": "code",
      "source": [
        "# Kernel square 5x5\n",
        "kernel_5x5 = np.ones((5, 5), dtype = np.uint8)\n",
        "\n",
        "# Erosi menggunakan function cv.erode()\n",
        "output = cv2.erode(img_1, kernel_5x5, iterations = 1)\n",
        "\n",
        "plt.subplot(121), plt.imshow(img_1), plt.title('Citra Awal')\n",
        "plt.subplot(122), plt.imshow(output), plt.title('Citra Hasil Erosi')\n",
        "plt.show()"
      ],
      "metadata": {
        "id": "bbdwgUqpOOhN"
      },
      "execution_count": null,
      "outputs": []
    },
    {
      "cell_type": "markdown",
      "source": [
        "##**7. Opening dengan Strel berbentuk square 3x3**\n",
        "\n",
        "Buatlah program implementasi operasi opening dengan Structuring Element berbentuk square 3 x 3 tanpa dan dengan menggunakan library morphology dari openCV, sehingga menghasilkan tampilan seperti di bawah ini: Operasi Opening Menggunakan tanpa Library Morphology"
      ],
      "metadata": {
        "id": "x5NylIZIOQI_"
      }
    },
    {
      "cell_type": "code",
      "source": [
        "# operasi opening tanpa library morphology\n",
        "\n",
        "# Menentukan ambang dan menghasilkan citra biner\n",
        "reto, thresho = cv2.threshold(img_1, 127, 255, cv2.THRESH_BINARY)\n",
        "\n",
        "# Menentukan kernel untuk erosi dan dilasi\n",
        "k = 7\n",
        "kernel = np.ones((k, k), np.uint8)\n",
        "\n",
        "# Melakukan erosi dan dilasi\n",
        "erosion = cv2.erode(thresho, kernel, iterations=1)\n",
        "dilation = cv2.dilate(erosion, kernel, iterations=1)\n",
        "\n",
        "plt.subplot(131), plt.imshow(img_1, cmap='gray')\n",
        "plt.title('Citra Awal'), plt.xticks([]), plt.yticks([])\n",
        "plt.subplot(132), plt.imshow(dilation, cmap='gray')\n",
        "plt.title('Citra Hasil Opening'), plt.xticks([]), plt.yticks([])\n",
        "plt.show()"
      ],
      "metadata": {
        "id": "s8BZ6HNdOUGx"
      },
      "execution_count": null,
      "outputs": []
    },
    {
      "cell_type": "code",
      "source": [
        "# Operasi Opening Menggunakan Library Morphology\n",
        "\n",
        "ret, thresh = cv2.threshold(img_1, 127, 225, cv2.THRESH_BINARY)\n",
        "kernel = np.ones((3,3),np.uint8)\n",
        "openn = cv2.morphologyEx(thresh,cv2.MORPH_OPEN, kernel)\n",
        "\n",
        "plt.subplot(131),plt.imshow(img_1,cmap = 'gray')\n",
        "plt.title('Citra Awal'), plt.xticks([]), plt.yticks([])\n",
        "plt.subplot(132),plt.imshow(thresh,cmap = 'gray')\n",
        "plt.title('Citra Biner'), plt.xticks([]), plt.yticks([])\n",
        "plt.subplot(133),plt.imshow(openn,cmap = 'gray')\n",
        "plt.title('Citra Hasil Opening'), plt.xticks([]),\n",
        "plt.yticks([])\n",
        "\n",
        "plt.show()"
      ],
      "metadata": {
        "id": "eY9M1LMgOUJp"
      },
      "execution_count": null,
      "outputs": []
    },
    {
      "cell_type": "markdown",
      "source": [
        "##**8. Operasi Closing dengan Strel Square 3 x 3**\n",
        "\n",
        "Buatlah program implementasi operasi closing dengan Structuring Element berbentuk square 3 x 3 tanpa dan dengan menggunakan library morphology dari openCV."
      ],
      "metadata": {
        "id": "pgRZRVfvOZn0"
      }
    },
    {
      "cell_type": "code",
      "source": [
        "#operasi closing tanpa library morphology\n",
        "\n",
        "# Ambang citra\n",
        "retc, threshc = cv2.threshold(img_1, 127, 255, cv2.THRESH_BINARY)\n",
        "\n",
        "# Menentukan ukuran kernel\n",
        "k = 7\n",
        "kernel = cv2.getStructuringElement(cv2.MORPH_RECT, (k, k))\n",
        "\n",
        "# Melakukan dilasi diikuti oleh erosi (Closing)\n",
        "closing = cv2.morphologyEx(threshc, cv2.MORPH_CLOSE, kernel)\n",
        "\n",
        "plt.subplot(131), plt.imshow(img_1, cmap='gray')\n",
        "plt.title('Citra Awal'), plt.xticks([]), plt.yticks([])\n",
        "plt.subplot(132), plt.imshow(closing, cmap='gray')\n",
        "plt.title('Citra Hasil Closing'), plt.xticks([]), plt.yticks([])\n",
        "plt.show()"
      ],
      "metadata": {
        "id": "mv5iXyMMOdTg"
      },
      "execution_count": null,
      "outputs": []
    },
    {
      "cell_type": "code",
      "source": [
        "#operasi closing menggunakan library morphology\n",
        "\n",
        "# Ambang citra\n",
        "ret, thresh = cv2.threshold(img_1, 127, 255, cv2.THRESH_BINARY)\n",
        "\n",
        "# Menentukan ukuran kernel\n",
        "kernel = np.ones((3, 3), np.uint8)\n",
        "\n",
        "# Melakukan penutupan (closing)\n",
        "closs = cv2.morphologyEx(thresh, cv2.MORPH_CLOSE, kernel)\n",
        "\n",
        "plt.subplot(131), plt.imshow(img_1, cmap='gray')\n",
        "plt.title('Citra Awal'), plt.xticks([]), plt.yticks([])\n",
        "plt.subplot(132), plt.imshow(thresh, cmap='gray')\n",
        "plt.title('Citra Biner'), plt.xticks([]), plt.yticks([])\n",
        "plt.subplot(133), plt.imshow(closs, cmap='gray')\n",
        "plt.title('Citra Hasil Closing'), plt.xticks([]), plt.yticks([])\n",
        "\n",
        "plt.show()"
      ],
      "metadata": {
        "id": "jt_llg3fOe2s"
      },
      "execution_count": null,
      "outputs": []
    },
    {
      "cell_type": "markdown",
      "source": [
        "##**9. Operasi Dilasi dengan Strel Cross 3 x 3 dan 5 x 5**\n",
        "Buatlah program implementasi operasi dilasi dengan Structuring Element berbentuk Cross 3 x 3 dan 5 x 5"
      ],
      "metadata": {
        "id": "lRVMUE7zOik_"
      }
    },
    {
      "cell_type": "code",
      "source": [
        "# Cross 3x3\n",
        "\n",
        "def dilasi_citra_cross_3x3(F):\n",
        "    p, q = F.shape\n",
        "    imgD = np.zeros((p, q), dtype=np.uint8)\n",
        "    SED = np.array([[0, 1, 0],\n",
        "                    [1, 1, 1],\n",
        "                    [0, 1, 0]], dtype=np.uint8)\n",
        "    w = 3\n",
        "    constant1 = (w - 1) // 2\n",
        "\n",
        "    for i in range(constant1, p - constant1):\n",
        "        for j in range(constant1, q - constant1):\n",
        "            temp = F[i - constant1:i + constant1 + 1, j - constant1:j + constant1 + 1]\n",
        "            product = temp * SED\n",
        "            imgD[i, j] = np.max(product)\n",
        "    return imgD\n",
        "\n",
        "ret, thresh = cv2.threshold(img_1, 127, 255, cv2.THRESH_BINARY)\n",
        "\n",
        "# Ubah ke citra grayscale jika tidak sudah\n",
        "gray_thresh = cv2.cvtColor(thresh, cv2.COLOR_BGR2GRAY)\n",
        "\n",
        "# Terapkan thresholding untuk menghasilkan citra biner\n",
        "ret, binarized_thresh = cv2.threshold(gray_thresh, 127, 255, cv2.THRESH_BINARY)\n",
        "\n",
        "imgD_cross_3x3 = dilasi_citra_cross_3x3(binarized_thresh)\n",
        "\n",
        "plt.subplot(131), plt.imshow(img_1, cmap='gray')\n",
        "plt.title('Citra Awal'), plt.xticks([]), plt.yticks([])\n",
        "\n",
        "plt.subplot(132), plt.imshow(imgD_cross_3x3, cmap='gray')\n",
        "plt.title('Citra Hasil'), plt.xticks([]), plt.yticks([])\n",
        "\n",
        "plt.show()"
      ],
      "metadata": {
        "id": "ulr-Fzw-Ol3e"
      },
      "execution_count": null,
      "outputs": []
    },
    {
      "cell_type": "code",
      "source": [
        "# Cross 5x5\n",
        "\n",
        "def dilasi_citra_cross_5x5(F):\n",
        "    p, q = F.shape\n",
        "    imgD = np.zeros((p, q), dtype=np.uint8)\n",
        "    SED = np.array([[0, 0, 1, 0, 0],\n",
        "                    [0, 0, 1, 0, 0],\n",
        "                    [1, 1, 1, 1, 1],\n",
        "                    [0, 0, 1, 0, 0],\n",
        "                    [0, 0, 1, 0, 0]], dtype=np.uint8)\n",
        "    w = 5\n",
        "    constant1 = (w - 1) // 2\n",
        "\n",
        "    for i in range(constant1, p - constant1):\n",
        "        for j in range(constant1, q - constant1):\n",
        "            temp = F[i - constant1:i + constant1 + 1, j - constant1:j + constant1 + 1]\n",
        "            product = temp * SED\n",
        "            imgD[i, j] = np.max(product)\n",
        "    return imgD\n",
        "\n",
        "ret, thresh = cv2.threshold(img_1, 127, 255, cv2.THRESH_BINARY)\n",
        "\n",
        "# Ubah ke citra grayscale jika tidak sudah\n",
        "gray_thresh = cv2.cvtColor(thresh, cv2.COLOR_BGR2GRAY)\n",
        "\n",
        "# Terapkan thresholding untuk menghasilkan citra biner\n",
        "ret, binarized_thresh = cv2.threshold(gray_thresh, 127, 255, cv2.THRESH_BINARY)\n",
        "\n",
        "imgD_cross_5x5 = dilasi_citra_cross_5x5(binarized_thresh)\n",
        "\n",
        "plt.subplot(131), plt.imshow(img_1, cmap='gray')\n",
        "plt.title('Citra Awal'), plt.xticks([]), plt.yticks([])\n",
        "\n",
        "plt.subplot(132), plt.imshow(imgD_cross_5x5, cmap='gray')\n",
        "plt.title('Citra Hasil'), plt.xticks([]), plt.yticks([])\n",
        "\n",
        "plt.show()"
      ],
      "metadata": {
        "id": "VLVZ-v8fOoqd"
      },
      "execution_count": null,
      "outputs": []
    },
    {
      "cell_type": "markdown",
      "source": [
        "##**10. Operasi Dilasi dengan Strel Circular 3 x 3 dan 5 x 5**\n",
        "Buatlah program implementasi operasi dilasi dengan Structuring Element berbentuk Circular 3 x 3 dan 5 x 5."
      ],
      "metadata": {
        "id": "Qsq1uHydOtM4"
      }
    },
    {
      "cell_type": "code",
      "source": [
        "# Circular 3x3\n",
        "\n",
        "def dilasi_citra_circular_3x3(F):\n",
        "    p, q = F.shape\n",
        "    imgD = np.zeros((p, q), dtype=np.uint8)\n",
        "    SED = cv2.getStructuringElement(cv2.MORPH_ELLIPSE, (3, 3))\n",
        "    constant1 = 1\n",
        "\n",
        "    for i in range(constant1, p - constant1):\n",
        "        for j in range(constant1, q - constant1):\n",
        "            temp = F[i - constant1:i + constant1 + 1, j - constant1:j + constant1 + 1]\n",
        "            product = temp * SED\n",
        "            imgD[i, j] = np.max(product)\n",
        "    return imgD\n",
        "\n",
        "ret, thresh = cv2.threshold(img_1, 127, 255, cv2.THRESH_BINARY)\n",
        "\n",
        "# Ubah ke citra grayscale jika tidak sudah\n",
        "gray_thresh = cv2.cvtColor(thresh, cv2.COLOR_BGR2GRAY)\n",
        "\n",
        "# Terapkan thresholding untuk menghasilkan citra biner\n",
        "ret, binarized_thresh = cv2.threshold(gray_thresh, 127, 255, cv2.THRESH_BINARY)\n",
        "\n",
        "imgD_circular_3x3 = dilasi_citra_circular_3x3(binarized_thresh)\n",
        "\n",
        "plt.subplot(131), plt.imshow(img_1, cmap='gray')\n",
        "plt.title('Citra Awal'), plt.xticks([]), plt.yticks([])\n",
        "\n",
        "plt.subplot(132), plt.imshow(imgD_circular_3x3, cmap='gray')\n",
        "plt.title('Citra Hasil'), plt.xticks([]), plt.yticks([])\n",
        "\n",
        "plt.show()"
      ],
      "metadata": {
        "id": "bPcEiceLOwYm"
      },
      "execution_count": null,
      "outputs": []
    },
    {
      "cell_type": "code",
      "source": [
        "# Circular 5x5\n",
        "\n",
        "def dilasi_citra_circular_5x5(F):\n",
        "    p, q = F.shape\n",
        "    imgD = np.zeros((p, q), dtype=np.uint8)\n",
        "    SED = cv2.getStructuringElement(cv2.MORPH_ELLIPSE, (5, 5))\n",
        "    constant1 = 2\n",
        "\n",
        "    for i in range(constant1, p - constant1):\n",
        "        for j in range(constant1, q - constant1):\n",
        "            temp = F[i - constant1:i + constant1 + 1, j - constant1:j + constant1 + 1]\n",
        "            product = temp * SED\n",
        "            imgD[i, j] = np.max(product)\n",
        "    return imgD\n",
        "\n",
        "ret, thresh = cv2.threshold(img_1, 127, 255, cv2.THRESH_BINARY)\n",
        "\n",
        "# Ubah ke citra grayscale jika tidak sudah\n",
        "gray_thresh = cv2.cvtColor(thresh, cv2.COLOR_BGR2GRAY)\n",
        "\n",
        "# Terapkan thresholding untuk menghasilkan citra biner\n",
        "ret, binarized_thresh = cv2.threshold(gray_thresh, 127, 255, cv2.THRESH_BINARY)\n",
        "\n",
        "imgD_circular_5x5 = dilasi_citra_circular_5x5(binarized_thresh)\n",
        "\n",
        "plt.subplot(131), plt.imshow(img_1, cmap='gray')\n",
        "plt.title('Citra Awal'), plt.xticks([]), plt.yticks([])\n",
        "\n",
        "plt.subplot(132), plt.imshow(imgD_circular_5x5, cmap='gray')\n",
        "plt.title('Citra Hasil'), plt.xticks([]), plt.yticks([])\n",
        "\n",
        "plt.show()"
      ],
      "metadata": {
        "id": "5WqDCpFSOzoc"
      },
      "execution_count": null,
      "outputs": []
    },
    {
      "cell_type": "markdown",
      "source": [
        "##**11. Operasi Erosi dengan Strel Rectangle 3 x 5 dan 5 x 7**\n",
        "Buatlah program implementasi operasi erosi dengan Structuring Element berbentuk Rectangle 3 x 5 dan 5 x 7."
      ],
      "metadata": {
        "id": "KnZlu8LOO5Q2"
      }
    },
    {
      "cell_type": "code",
      "source": [
        "# Strel Rectangle 3x5\n",
        "\n",
        "def erosi_citra_rectangle_3x5(F):\n",
        "    m, n = F.shape\n",
        "    SE = cv2.getStructuringElement(cv2.MORPH_RECT, (3, 5))\n",
        "    constant1 = 2\n",
        "    constant2 = 1\n",
        "    imgE = np.zeros((m, n), dtype=np.uint8)\n",
        "\n",
        "    for i in range(constant1, m - constant1):\n",
        "        for j in range(constant2, n - constant2):\n",
        "            temp = F[i - constant1:i + constant1 + 1, j - constant2:j + constant2 + 1]\n",
        "            product = temp * SE\n",
        "            imgE[i, j] = np.min(product)\n",
        "\n",
        "    return imgE\n",
        "\n",
        "ret, thresh = cv2.threshold(img_1, 127, 255, cv2.THRESH_BINARY)\n",
        "\n",
        "# Ubah ke citra grayscale jika tidak sudah\n",
        "gray_thresh = cv2.cvtColor(thresh, cv2.COLOR_BGR2GRAY)\n",
        "\n",
        "# Terapkan thresholding untuk menghasilkan citra biner\n",
        "ret, binarized_thresh = cv2.threshold(gray_thresh, 127, 255, cv2.THRESH_BINARY)\n",
        "\n",
        "imgE_rectangle_3x5 = erosi_citra_rectangle_3x5(binarized_thresh)\n",
        "\n",
        "plt.subplot(131), plt.imshow(img_1, cmap='gray')\n",
        "plt.title('Citra Awal'), plt.xticks([]), plt.yticks([])\n",
        "\n",
        "plt.subplot(132), plt.imshow(imgE_rectangle_3x5, cmap='gray')\n",
        "plt.title('Citra Hasil'), plt.xticks([]), plt.yticks([])\n",
        "\n",
        "plt.show()"
      ],
      "metadata": {
        "id": "RS8Nl6piO7U4"
      },
      "execution_count": null,
      "outputs": []
    },
    {
      "cell_type": "code",
      "source": [
        "# Strel Rectangle 5x7\n",
        "\n",
        "def erosi_citra_rectangle_5x7(F):\n",
        "    m, n = F.shape\n",
        "    SE = cv2.getStructuringElement(cv2.MORPH_RECT, (5, 7))\n",
        "    constant1 = 3\n",
        "    constant2 = 2\n",
        "    imgE = np.zeros((m, n), dtype=np.uint8)\n",
        "\n",
        "    for i in range(constant1, m - constant1):\n",
        "        for j in range(constant2, n - constant2):\n",
        "            temp = F[i - constant1:i + constant1 + 1, j - constant2:j + constant2 + 1]\n",
        "            product = temp * SE\n",
        "            imgE[i, j] = np.min(product)\n",
        "\n",
        "    return imgE\n",
        "\n",
        "ret, thresh = cv2.threshold(img_1, 127, 255, cv2.THRESH_BINARY)\n",
        "\n",
        "# Ubah ke citra grayscale jika tidak sudah\n",
        "gray_thresh = cv2.cvtColor(thresh, cv2.COLOR_BGR2GRAY)\n",
        "\n",
        "# Terapkan thresholding untuk menghasilkan citra biner\n",
        "ret, binarized_thresh = cv2.threshold(gray_thresh, 127, 255, cv2.THRESH_BINARY)\n",
        "\n",
        "imgE_rectangle_5x7 = erosi_citra_rectangle_5x7(binarized_thresh)\n",
        "\n",
        "plt.subplot(131), plt.imshow(img_1, cmap='gray')\n",
        "plt.title('Citra Awal'), plt.xticks([]), plt.yticks([])\n",
        "\n",
        "plt.subplot(132), plt.imshow(imgE_rectangle_5x7, cmap='gray')\n",
        "plt.title('Citra Hasil'), plt.xticks([]), plt.yticks([])\n",
        "\n",
        "plt.show()"
      ],
      "metadata": {
        "id": "iUKJJ_voO9tO"
      },
      "execution_count": null,
      "outputs": []
    },
    {
      "cell_type": "markdown",
      "source": [
        "##**12. Operasi Erosi dengan Strel Line Vertikal 3 dan 5**\n",
        "Buatlah program implementasi operasi erosi dengan Structuring Element berbentuk Line Vertikal 3 dan 5."
      ],
      "metadata": {
        "id": "1s52USA_PDGK"
      }
    },
    {
      "cell_type": "code",
      "source": [
        "# Strel Line Vertikal 3\n",
        "\n",
        "def erosi_citra_line_vertikal_3(F):\n",
        "    m, n = F.shape\n",
        "    SE = cv2.getStructuringElement(cv2.MORPH_RECT, (3, 1))\n",
        "    constant = 1\n",
        "    imgE = np.zeros((m, n), dtype=np.uint8)\n",
        "\n",
        "    for i in range(constant, m - constant):\n",
        "        for j in range(constant, n - constant):\n",
        "            temp = F[i - constant:i + constant + 1, j - constant:j + constant + 1]\n",
        "            product = temp * SE\n",
        "            imgE[i, j] = np.min(product)\n",
        "\n",
        "    return imgE\n",
        "\n",
        "ret, thresh = cv2.threshold(img_1, 127, 255, cv2.THRESH_BINARY)\n",
        "\n",
        "imgE_line_vertikal_3 = erosi_citra_line_vertikal_3(thresh)\n",
        "\n",
        "plt.subplot(131), plt.imshow(img_1, cmap='gray')\n",
        "plt.title('Citra Awal'), plt.xticks([]), plt.yticks([])\n",
        "\n",
        "plt.subplot(132), plt.imshow(imgE_line_vertikal_3, cmap='gray')\n",
        "plt.title('Citra Hasil'), plt.xticks([]), plt.yticks([])\n",
        "\n",
        "plt.show()"
      ],
      "metadata": {
        "id": "sebbnqisPFkt"
      },
      "execution_count": null,
      "outputs": []
    },
    {
      "cell_type": "code",
      "source": [
        "# Strel Line Vertikal 5\n",
        "\n",
        "def erosi_citra_line_vertikal_5(F):\n",
        "    m, n = F.shape\n",
        "    SE = cv2.getStructuringElement(cv2.MORPH_RECT, (5, 1))\n",
        "    constant = 2\n",
        "    imgE = np.zeros((m, n), dtype=np.uint8)\n",
        "\n",
        "    for i in range(constant, m - constant):\n",
        "        for j in range(constant, n - constant):\n",
        "            temp = F[i - constant:i + constant + 1, j - constant:j + constant + 1]\n",
        "            product = temp * SE\n",
        "            imgE[i, j] = np.min(product)\n",
        "\n",
        "    return imgE\n",
        "\n",
        "ret, thresh = cv2.threshold(img_1, 127, 255, cv2.THRESH_BINARY)\n",
        "\n",
        "imgE_line_vertikal_5 = erosi_citra_line_vertikal_5(thresh)\n",
        "\n",
        "plt.subplot(131), plt.imshow(img_1, cmap='gray')\n",
        "plt.title('Citra Awal'), plt.xticks([]), plt.yticks([])\n",
        "\n",
        "plt.subplot(132), plt.imshow(imgE_line_vertikal_5, cmap='gray')\n",
        "plt.title('Citra Hasil'), plt.xticks([]), plt.yticks([])\n",
        "\n",
        "plt.show()"
      ],
      "metadata": {
        "id": "2L6yNbT7PIKI"
      },
      "execution_count": null,
      "outputs": []
    },
    {
      "cell_type": "markdown",
      "source": [
        "##**13. TopHat**"
      ],
      "metadata": {
        "id": "WIoiPmr9PMO-"
      }
    },
    {
      "cell_type": "code",
      "source": [
        "# Read the image\n",
        "img = cv2.imread('/content/drive/MyDrive/PCVK_MM/Images/kitten01.jpg', 0)\n",
        "\n",
        "# Define the kernel for Top-Hat\n",
        "filter_size = (4, 3)\n",
        "kernel = cv2.getStructuringElement(cv2.MORPH_RECT, filterSize)\n",
        "\n",
        "# Perform Top-Hat operation\n",
        "tophat_img = cv2.morphologyEx(img, cv2.MORPH_TOPHAT, kernel)\n",
        "\n",
        "# Display the original and Top-Hat images\n",
        "plt.subplot(131), plt.imshow(img, cmap='gray')\n",
        "plt.title('Citra Awal'), plt.xticks([]), plt.yticks([])\n",
        "\n",
        "plt.subplot(132), plt.imshow(tophat_img, cmap='gray')\n",
        "plt.title('Citra Hasil TOP HAT'), plt.xticks([]), plt.yticks([])\n",
        "\n",
        "plt.show()"
      ],
      "metadata": {
        "id": "U5TX4yF2POLc",
        "outputId": "fb53f21c-c7dd-402f-db29-563e52f9d6c7",
        "colab": {
          "base_uri": "https://localhost:8080/",
          "height": 245
        }
      },
      "execution_count": 4,
      "outputs": [
        {
          "output_type": "error",
          "ename": "NameError",
          "evalue": "ignored",
          "traceback": [
            "\u001b[0;31m---------------------------------------------------------------------------\u001b[0m",
            "\u001b[0;31mNameError\u001b[0m                                 Traceback (most recent call last)",
            "\u001b[0;32m<ipython-input-4-29830126e5c2>\u001b[0m in \u001b[0;36m<cell line: 2>\u001b[0;34m()\u001b[0m\n\u001b[1;32m      1\u001b[0m \u001b[0;31m# Read the image\u001b[0m\u001b[0;34m\u001b[0m\u001b[0;34m\u001b[0m\u001b[0m\n\u001b[0;32m----> 2\u001b[0;31m \u001b[0mimg\u001b[0m \u001b[0;34m=\u001b[0m \u001b[0mcv2\u001b[0m\u001b[0;34m.\u001b[0m\u001b[0mimread\u001b[0m\u001b[0;34m(\u001b[0m\u001b[0;34m'/content/drive/MyDrive/PCVK_MM/Images/kitten01.jpg'\u001b[0m\u001b[0;34m,\u001b[0m \u001b[0;36m0\u001b[0m\u001b[0;34m)\u001b[0m\u001b[0;34m\u001b[0m\u001b[0;34m\u001b[0m\u001b[0m\n\u001b[0m\u001b[1;32m      3\u001b[0m \u001b[0;34m\u001b[0m\u001b[0m\n\u001b[1;32m      4\u001b[0m \u001b[0;31m# Define the kernel for Top-Hat\u001b[0m\u001b[0;34m\u001b[0m\u001b[0;34m\u001b[0m\u001b[0m\n\u001b[1;32m      5\u001b[0m \u001b[0mfilter_size\u001b[0m \u001b[0;34m=\u001b[0m \u001b[0;34m(\u001b[0m\u001b[0;36m4\u001b[0m\u001b[0;34m,\u001b[0m \u001b[0;36m3\u001b[0m\u001b[0;34m)\u001b[0m\u001b[0;34m\u001b[0m\u001b[0;34m\u001b[0m\u001b[0m\n",
            "\u001b[0;31mNameError\u001b[0m: name 'cv2' is not defined"
          ]
        }
      ]
    },
    {
      "cell_type": "markdown",
      "source": [
        "##**14. BLACKHAT**"
      ],
      "metadata": {
        "id": "ZaQFFX30PaRI"
      }
    },
    {
      "cell_type": "code",
      "source": [
        "# Read the image\n",
        "img = cv2.imread('/content/drive/MyDrive/PCVK_MM/Images/kitten01.jpg')\n",
        "img = cv2.cvtColor(img, cv2.COLOR_BGR2GRAY)\n",
        "\n",
        "# Define the kernel for Black-Hat\n",
        "filter_size = (13, 5)\n",
        "kernel = cv2.getStructuringElement(cv2.MORPH_RECT, filter_size)\n",
        "\n",
        "# Perform Black-Hat operation\n",
        "blackhat = cv2.morphologyEx(img, cv2.MORPH_BLACKHAT, kernel)\n",
        "\n",
        "# Display the original and Black-Hat images\n",
        "plt.subplot(131), plt.imshow(img, cmap='gray')\n",
        "plt.title('Citra Awal'), plt.xticks([]), plt.yticks([])\n",
        "\n",
        "plt.subplot(132), plt.imshow(blackhat, cmap='gray')\n",
        "plt.title('Citra Hasil Black Hat'), plt.xticks([]), plt.yticks([])\n",
        "\n",
        "plt.show()"
      ],
      "metadata": {
        "id": "49SsPnqqPbyw",
        "outputId": "a2841b4a-0161-4556-a03b-cbc410022e87",
        "colab": {
          "base_uri": "https://localhost:8080/",
          "height": 245
        }
      },
      "execution_count": 6,
      "outputs": [
        {
          "output_type": "error",
          "ename": "NameError",
          "evalue": "ignored",
          "traceback": [
            "\u001b[0;31m---------------------------------------------------------------------------\u001b[0m",
            "\u001b[0;31mNameError\u001b[0m                                 Traceback (most recent call last)",
            "\u001b[0;32m<ipython-input-6-9e74358c5b86>\u001b[0m in \u001b[0;36m<cell line: 2>\u001b[0;34m()\u001b[0m\n\u001b[1;32m      1\u001b[0m \u001b[0;31m# Read the image\u001b[0m\u001b[0;34m\u001b[0m\u001b[0;34m\u001b[0m\u001b[0m\n\u001b[0;32m----> 2\u001b[0;31m \u001b[0mimg\u001b[0m \u001b[0;34m=\u001b[0m \u001b[0mcv2\u001b[0m\u001b[0;34m.\u001b[0m\u001b[0mimread\u001b[0m\u001b[0;34m(\u001b[0m\u001b[0;34m'/content/drive/MyDrive/PCVK_MM/Images/kitten01.jpg'\u001b[0m\u001b[0;34m)\u001b[0m\u001b[0;34m\u001b[0m\u001b[0;34m\u001b[0m\u001b[0m\n\u001b[0m\u001b[1;32m      3\u001b[0m \u001b[0mimg\u001b[0m \u001b[0;34m=\u001b[0m \u001b[0mcv2\u001b[0m\u001b[0;34m.\u001b[0m\u001b[0mcvtColor\u001b[0m\u001b[0;34m(\u001b[0m\u001b[0mimg\u001b[0m\u001b[0;34m,\u001b[0m \u001b[0mcv2\u001b[0m\u001b[0;34m.\u001b[0m\u001b[0mCOLOR_BGR2GRAY\u001b[0m\u001b[0;34m)\u001b[0m\u001b[0;34m\u001b[0m\u001b[0;34m\u001b[0m\u001b[0m\n\u001b[1;32m      4\u001b[0m \u001b[0;34m\u001b[0m\u001b[0m\n\u001b[1;32m      5\u001b[0m \u001b[0;31m# Define the kernel for Black-Hat\u001b[0m\u001b[0;34m\u001b[0m\u001b[0;34m\u001b[0m\u001b[0m\n",
            "\u001b[0;31mNameError\u001b[0m: name 'cv2' is not defined"
          ]
        }
      ]
    },
    {
      "cell_type": "markdown",
      "source": [
        "##**15. Skeleton**"
      ],
      "metadata": {
        "id": "d3G3jXNIPiT-"
      }
    },
    {
      "cell_type": "code",
      "source": [
        "from skimage import filters\n",
        "from skimage.morphology import skeletonize\n",
        "\n",
        "# Read the image\n",
        "img = cv2.imread('/content/drive/MyDrive/PCVK_MM/Images/lily.jpg', 0)\n",
        "\n",
        "# Apply thresholding using Triangle method\n",
        "binary = img > filters.threshold_triangle(img)\n",
        "\n",
        "# Convert True/False to 1/0\n",
        "binary_cp = binary.astype(int)\n",
        "\n",
        "# Skeletonize the binary image\n",
        "skeleton = skeletonize(binary_cp)\n",
        "\n",
        "# Display images\n",
        "plt.figure(figsize=(10, 5))\n",
        "\n",
        "plt.subplot(131), plt.imshow(img, cmap='gray')\n",
        "plt.title('Original Image'), plt.xticks([]), plt.yticks([])\n",
        "\n",
        "plt.subplot(132), plt.imshow(skeleton, cmap='gray')\n",
        "plt.title('Skeleton Image'), plt.xticks([]), plt.yticks([])\n",
        "\n",
        "plt.savefig(\"binary_and_skeleton.png\")\n",
        "plt.show()"
      ],
      "metadata": {
        "id": "2LHGuxplPmId",
        "outputId": "7c3053b1-a370-4709-a006-0bc1162a5a91",
        "colab": {
          "base_uri": "https://localhost:8080/",
          "height": 245
        }
      },
      "execution_count": 7,
      "outputs": [
        {
          "output_type": "error",
          "ename": "NameError",
          "evalue": "ignored",
          "traceback": [
            "\u001b[0;31m---------------------------------------------------------------------------\u001b[0m",
            "\u001b[0;31mNameError\u001b[0m                                 Traceback (most recent call last)",
            "\u001b[0;32m<ipython-input-7-57e134979a1b>\u001b[0m in \u001b[0;36m<cell line: 5>\u001b[0;34m()\u001b[0m\n\u001b[1;32m      3\u001b[0m \u001b[0;34m\u001b[0m\u001b[0m\n\u001b[1;32m      4\u001b[0m \u001b[0;31m# Read the image\u001b[0m\u001b[0;34m\u001b[0m\u001b[0;34m\u001b[0m\u001b[0m\n\u001b[0;32m----> 5\u001b[0;31m \u001b[0mimg\u001b[0m \u001b[0;34m=\u001b[0m \u001b[0mcv2\u001b[0m\u001b[0;34m.\u001b[0m\u001b[0mimread\u001b[0m\u001b[0;34m(\u001b[0m\u001b[0;34m'/content/drive/MyDrive/PCVK_MM/Images/lily.jpg'\u001b[0m\u001b[0;34m,\u001b[0m \u001b[0;36m0\u001b[0m\u001b[0;34m)\u001b[0m\u001b[0;34m\u001b[0m\u001b[0;34m\u001b[0m\u001b[0m\n\u001b[0m\u001b[1;32m      6\u001b[0m \u001b[0;34m\u001b[0m\u001b[0m\n\u001b[1;32m      7\u001b[0m \u001b[0;31m# Apply thresholding using Triangle method\u001b[0m\u001b[0;34m\u001b[0m\u001b[0;34m\u001b[0m\u001b[0m\n",
            "\u001b[0;31mNameError\u001b[0m: name 'cv2' is not defined"
          ]
        }
      ]
    }
  ]
}